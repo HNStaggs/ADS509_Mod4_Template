{
 "cells": [
  {
   "cell_type": "markdown",
   "metadata": {},
   "source": [
    "## Naive Bayes on Political Text\n",
    "### Halee Staggs\n",
    "#### CHATGpt4.o was used as a tool for this assignment. All code was quality checked. "
   ]
  },
  {
   "cell_type": "code",
   "execution_count": 156,
   "metadata": {},
   "outputs": [],
   "source": [
    "# Import libraries and functions\n",
    "import sqlite3\n",
    "import nltk\n",
    "import random\n",
    "import numpy as np\n",
    "from collections import Counter, defaultdict\n",
    "import pandas as pd\n",
    "import os\n",
    "import re\n",
    "import numpy as np\n",
    "from nltk.corpus import stopwords\n",
    "from string import punctuation\n",
    "\n",
    "# Load stopwords\n",
    "sw = stopwords.words(\"english\")\n",
    "\n",
    "# Add any additional import statements you need here\n",
    "from nltk.tokenize import word_tokenize\n",
    "#nltk.download('punkt')\n",
    "import string\n",
    "import matplotlib.pyplot as plt\n",
    "import seaborn as sns\n",
    "from sklearn.metrics import confusion_matrix, accuracy_score, ConfusionMatrixDisplay, precision_score, recall_score\n",
    "from imblearn.metrics import specificity_score, sensitivity_score"
   ]
  },
  {
   "cell_type": "markdown",
   "metadata": {},
   "source": [
    "## Setup Functions"
   ]
  },
  {
   "cell_type": "code",
   "execution_count": 88,
   "metadata": {},
   "outputs": [],
   "source": [
    "# Function to creat clean data\n",
    "def clean_and_tokenize(text):\n",
    "    # Explicitly remove special characters\n",
    "    additional_punctuation = \"’‘“”!@#$%^&*()<>›?/\\{}[]-_–+=`~;:\"  \n",
    "\n",
    "    # Replace additional punctuation with empty string\n",
    "    for char in additional_punctuation:\n",
    "        text = text.replace(char, \"\")\n",
    "        \n",
    "    # Remove punctuation\n",
    "    text = text.translate(str.maketrans('', '', string.punctuation))\n",
    "    \n",
    "    # Split on whitespace and fold to lowercase\n",
    "    words = word_tokenize(text.lower())\n",
    "    \n",
    "    # Remove stopwords\n",
    "    words = [word for word in words if word not in sw]\n",
    "    \n",
    "    return words"
   ]
  },
  {
   "cell_type": "markdown",
   "metadata": {},
   "source": [
    "## Look at database contents. There is only 1 table."
   ]
  },
  {
   "cell_type": "code",
   "execution_count": 61,
   "metadata": {},
   "outputs": [
    {
     "name": "stdout",
     "output_type": "stream",
     "text": [
      "conventions\n"
     ]
    }
   ],
   "source": [
    "# Open connection to database\n",
    "convention_db = sqlite3.connect(r\"2020_Conventions.db\")\n",
    "convention_cur = convention_db.cursor()\n",
    "\n",
    "# Query to list all tables\n",
    "convention_cur.execute(\"SELECT name FROM sqlite_master WHERE type='table';\")\n",
    "\n",
    "# Fetch and print all table names\n",
    "tables = convention_cur.fetchall()\n",
    "for table in tables:\n",
    "    print(table[0])\n",
    "\n",
    "# Close the connection\n",
    "convention_db.close()"
   ]
  },
  {
   "cell_type": "markdown",
   "metadata": {},
   "source": [
    "### Look at a sample of data from the conventions table. There are 8 columns and just over 2500 speeches."
   ]
  },
  {
   "cell_type": "code",
   "execution_count": 62,
   "metadata": {},
   "outputs": [
    {
     "name": "stdout",
     "output_type": "stream",
     "text": [
      "           party  night                  speaker  speaker_count      time  \\\n",
      "0     Democratic      4                  Unknown              1     00:00   \n",
      "1     Democratic      4                Speaker 1              1     00:33   \n",
      "2     Democratic      4                Speaker 2              1     00:59   \n",
      "3     Democratic      4         Kerry Washington              1     01:07   \n",
      "4     Democratic      4           Bernie Sanders              1     01:18   \n",
      "...          ...    ...                      ...            ...       ...   \n",
      "2536  Democratic      3             Nancy Pelosi             11  02:43:33   \n",
      "2537  Democratic      3               Speaker 69              1  02:43:39   \n",
      "2538  Democratic      3             Barack Obama             24  02:43:49   \n",
      "2539  Democratic      3  Archbishop Elpidophoros              1  02:44:24   \n",
      "2540  Democratic      3               Speaker 70              1  02:45:33   \n",
      "\n",
      "                                                   text text_len  \\\n",
      "0     Skip to content The Company Careers Press Free...      127   \n",
      "1     I’m here by calling the full session of the 48...       41   \n",
      "2     Every four years, we come together to reaffirm...       17   \n",
      "3     We fight for a more perfect union because we a...       28   \n",
      "4     We must come together to defeat Donald Trump, ...       22   \n",
      "...                                                 ...      ...   \n",
      "2536  We come together now not to decry the darkness...       18   \n",
      "2537  The way I see it, big problems demand big solu...       24   \n",
      "2538  But here’s the thing, no single American can f...       68   \n",
      "2539  Greetings. I am Archbishop Elpidophoros of the...      125   \n",
      "2540  That concludes our convention program for this...      292   \n",
      "\n",
      "                                                   file  \n",
      "0     www_rev_com_blog_transcripts2020-democratic-na...  \n",
      "1     www_rev_com_blog_transcripts2020-democratic-na...  \n",
      "2     www_rev_com_blog_transcripts2020-democratic-na...  \n",
      "3     www_rev_com_blog_transcripts2020-democratic-na...  \n",
      "4     www_rev_com_blog_transcripts2020-democratic-na...  \n",
      "...                                                 ...  \n",
      "2536  www_rev_com_blog_transcriptsdemocratic-nationa...  \n",
      "2537  www_rev_com_blog_transcriptsdemocratic-nationa...  \n",
      "2538  www_rev_com_blog_transcriptsdemocratic-nationa...  \n",
      "2539  www_rev_com_blog_transcriptsdemocratic-nationa...  \n",
      "2540  www_rev_com_blog_transcriptsdemocratic-nationa...  \n",
      "\n",
      "[2541 rows x 8 columns]\n"
     ]
    }
   ],
   "source": [
    "# Open connection to database\n",
    "convention_db = sqlite3.connect(r\"2020_Conventions.db\")\n",
    "convention_cur = convention_db.cursor()\n",
    "\n",
    "# Query to select all records from the 'conventions' table\n",
    "convention_cur.execute(\"SELECT * FROM conventions\")\n",
    "\n",
    "# Fetch the records\n",
    "rows = convention_cur.fetchall()\n",
    "\n",
    "# Get the column names\n",
    "column_names = [description[0] for description in convention_cur.description]\n",
    "\n",
    "# Create a DataFrame from the rows and column names\n",
    "df = pd.DataFrame(rows, columns=column_names)\n",
    "\n",
    "# Close the connection\n",
    "convention_db.close()\n",
    "\n",
    "# Display the DataFrame\n",
    "print(df)"
   ]
  },
  {
   "cell_type": "markdown",
   "metadata": {},
   "source": [
    "### Part 1: Exploratory Naive Bayes\n",
    "\n",
    "We'll first build a NB model on the convention data itself, as a way to understand what words distinguish between the two parties. This is analogous to what we did in the \"Comparing Groups\" class work. First, pull in the text \n",
    "for each party and prepare it for use in Naive Bayes.  "
   ]
  },
  {
   "cell_type": "code",
   "execution_count": 63,
   "metadata": {},
   "outputs": [
    {
     "data": {
      "text/html": [
       "<div>\n",
       "<style scoped>\n",
       "    .dataframe tbody tr th:only-of-type {\n",
       "        vertical-align: middle;\n",
       "    }\n",
       "\n",
       "    .dataframe tbody tr th {\n",
       "        vertical-align: top;\n",
       "    }\n",
       "\n",
       "    .dataframe thead th {\n",
       "        text-align: right;\n",
       "    }\n",
       "</style>\n",
       "<table border=\"1\" class=\"dataframe\">\n",
       "  <thead>\n",
       "    <tr style=\"text-align: right;\">\n",
       "      <th></th>\n",
       "      <th>text</th>\n",
       "      <th>party</th>\n",
       "    </tr>\n",
       "  </thead>\n",
       "  <tbody>\n",
       "    <tr>\n",
       "      <th>0</th>\n",
       "      <td>[skip, content, company, careers, press, freel...</td>\n",
       "      <td>Democratic</td>\n",
       "    </tr>\n",
       "    <tr>\n",
       "      <th>1</th>\n",
       "      <td>[im, calling, full, session, 48th, quadrennial...</td>\n",
       "      <td>Democratic</td>\n",
       "    </tr>\n",
       "    <tr>\n",
       "      <th>2</th>\n",
       "      <td>[every, four, years, come, together, reaffirm,...</td>\n",
       "      <td>Democratic</td>\n",
       "    </tr>\n",
       "    <tr>\n",
       "      <th>3</th>\n",
       "      <td>[fight, perfect, union, fighting, soul, countr...</td>\n",
       "      <td>Democratic</td>\n",
       "    </tr>\n",
       "    <tr>\n",
       "      <th>4</th>\n",
       "      <td>[must, come, together, defeat, donald, trump, ...</td>\n",
       "      <td>Democratic</td>\n",
       "    </tr>\n",
       "  </tbody>\n",
       "</table>\n",
       "</div>"
      ],
      "text/plain": [
       "                                                text       party\n",
       "0  [skip, content, company, careers, press, freel...  Democratic\n",
       "1  [im, calling, full, session, 48th, quadrennial...  Democratic\n",
       "2  [every, four, years, come, together, reaffirm,...  Democratic\n",
       "3  [fight, perfect, union, fighting, soul, countr...  Democratic\n",
       "4  [must, come, together, defeat, donald, trump, ...  Democratic"
      ]
     },
     "execution_count": 63,
     "metadata": {},
     "output_type": "execute_result"
    }
   ],
   "source": [
    "convention_data = []\n",
    "\n",
    "# Open connection to database\n",
    "convention_db = sqlite3.connect(r\"2020_Conventions.db\")\n",
    "convention_cur = convention_db.cursor()\n",
    "query_results = convention_cur.execute(\n",
    "                            '''\n",
    "                            SELECT text, party FROM conventions\n",
    "                            ''')\n",
    "\n",
    "# Fetch the records\n",
    "rows = query_results.fetchall()\n",
    "\n",
    "# Process each row\n",
    "for row in rows:\n",
    "    text, party = row\n",
    "\n",
    "    # Apply cleaning steps to text data\n",
    "    text = clean_and_tokenize(text) \n",
    "\n",
    "    # Add clean data to the list\n",
    "    convention_data.append((text, party))\n",
    "\n",
    "# Convert list to DataFrame\n",
    "convention_text = pd.DataFrame(convention_data, columns=['text', 'party'])\n",
    "\n",
    "# Close the connection\n",
    "convention_db.close()\n",
    "\n",
    "# Display the DataFrame\n",
    "convention_text.head()"
   ]
  },
  {
   "cell_type": "markdown",
   "metadata": {},
   "source": [
    "Let's look at some random entries and see if they look right. "
   ]
  },
  {
   "cell_type": "code",
   "execution_count": 64,
   "metadata": {},
   "outputs": [
    {
     "name": "stdout",
     "output_type": "stream",
     "text": [
      "                                                   text       party\n",
      "1558  [unlike, donald, trump, joe, biden, actually, ...  Democratic\n",
      "134   [know, cant, take, democracy, granted, especia...  Democratic\n",
      "1640  [theyre, learning, conquered, pandemic, stood,...  Democratic\n",
      "1498  [factory, workers, ohio, faced, dangerous, con...  Democratic\n",
      "1399  [together, nations, europe, experienced, 30, g...  Republican\n"
     ]
    }
   ],
   "source": [
    "# Get a random sample of 5 rows from the DataFrame\n",
    "random_sample = convention_text.sample(n=5, random_state=42)\n",
    "print(random_sample)"
   ]
  },
  {
   "cell_type": "markdown",
   "metadata": {},
   "source": [
    "If that looks good, we now need to make our function to turn these into features. In my solution, I wanted to keep the number of features reasonable, so I only used words that occur at least `word_cutoff` times. Here's the code to test that if you want it. "
   ]
  },
  {
   "cell_type": "code",
   "execution_count": 65,
   "metadata": {},
   "outputs": [
    {
     "name": "stdout",
     "output_type": "stream",
     "text": [
      "   feature_word\n",
      "0      inspired\n",
      "1       despair\n",
      "2         maine\n",
      "3          pass\n",
      "4     dictators\n",
      "5          tide\n",
      "6      consider\n",
      "7        pushed\n",
      "8       shining\n",
      "9         enemy\n",
      "10      systems\n",
      "11        sides\n",
      "12      ceiling\n",
      "13        30330\n",
      "14      promote\n",
      "15     expected\n",
      "16         fair\n",
      "17   lifesaving\n",
      "18         warp\n",
      "19     profound\n",
      "20         town\n",
      "21     lincolns\n",
      "22  suppression\n",
      "23       stayed\n",
      "24         king\n"
     ]
    }
   ],
   "source": [
    "# Get all tokens from the DataFrame\n",
    "all_tokens = [token for sublist in convention_text['text'] for token in sublist]\n",
    "\n",
    "# Create a frequency distribution of the tokens\n",
    "word_dist = nltk.FreqDist(all_tokens)\n",
    "\n",
    "# Define a word frequency cutoff\n",
    "word_cutoff = 5\n",
    "\n",
    "# Collect words that appear at least word_cutoff times\n",
    "feature_words = {word for word, count in word_dist.items() if count >= word_cutoff}\n",
    "\n",
    "# Make into dataframe\n",
    "feature_words_df = pd.DataFrame(list(feature_words), columns=['feature_word'])\n",
    "\n",
    "# Look at first 50 words\n",
    "print(feature_words_df.head(25))"
   ]
  },
  {
   "cell_type": "code",
   "execution_count": 158,
   "metadata": {},
   "outputs": [
    {
     "name": "stdout",
     "output_type": "stream",
     "text": [
      "                                                text  \\\n",
      "0  [skip, content, company, careers, press, freel...   \n",
      "1  [im, calling, full, session, 48th, quadrennial...   \n",
      "2  [every, four, years, come, together, reaffirm,...   \n",
      "3  [fight, perfect, union, fighting, soul, countr...   \n",
      "4  [must, come, together, defeat, donald, trump, ...   \n",
      "5  [donald, trump, wrong, president, country, eno...   \n",
      "6  [dad, healthy, 65, year, old, preexisting, con...   \n",
      "7  [us, carry, fight, justice, actions, would, le...   \n",
      "8  [need, leadership, bring, us, back, together, ...   \n",
      "9                           [next, president, right]   \n",
      "\n",
      "                                                  fw  \n",
      "0  {'skip': True, 'content': True, 'company': Tru...  \n",
      "1  {'im': True, 'calling': True, 'full': True, 's...  \n",
      "2  {'every': True, 'four': True, 'years': True, '...  \n",
      "3  {'fight': True, 'perfect': True, 'union': True...  \n",
      "4  {'must': True, 'come': True, 'together': True,...  \n",
      "5  {'donald': True, 'trump': True, 'wrong': True,...  \n",
      "6  {'dad': True, 'healthy': True, '65': True, 'ye...  \n",
      "7  {'us': True, 'carry': True, 'fight': True, 'ju...  \n",
      "8  {'need': True, 'leadership': True, 'bring': Tr...  \n",
      "9   {'next': True, 'president': True, 'right': True}  \n"
     ]
    }
   ],
   "source": [
    "# Create function to identify if speeches contain the feature words identified above\n",
    "def conv_features(text, fw) :\n",
    "    # Initialize an empty dictionary to hold the feature words\n",
    "    ret_dict = dict()\n",
    "    \n",
    "    # Iterate over the words in the list\n",
    "    for word in text:\n",
    "        # If the word is in the feature words set and not already in the dictionary\n",
    "        if word in fw and word not in ret_dict:\n",
    "            # Add the word to the dictionary with the value True\n",
    "            ret_dict[word] = True\n",
    "    \n",
    "    return ret_dict\n",
    "\n",
    "# Apply the function to the DataFrame\n",
    "convention_text['fw'] = convention_text['text'].apply(lambda x: conv_features(x, feature_words))\n",
    "\n",
    "# Display the DataFrame with feature words\n",
    "print(convention_text[['text', 'fw']].head(10))"
   ]
  },
  {
   "cell_type": "code",
   "execution_count": 67,
   "metadata": {},
   "outputs": [
    {
     "data": {
      "text/html": [
       "<div>\n",
       "<style scoped>\n",
       "    .dataframe tbody tr th:only-of-type {\n",
       "        vertical-align: middle;\n",
       "    }\n",
       "\n",
       "    .dataframe tbody tr th {\n",
       "        vertical-align: top;\n",
       "    }\n",
       "\n",
       "    .dataframe thead th {\n",
       "        text-align: right;\n",
       "    }\n",
       "</style>\n",
       "<table border=\"1\" class=\"dataframe\">\n",
       "  <thead>\n",
       "    <tr style=\"text-align: right;\">\n",
       "      <th></th>\n",
       "      <th>text</th>\n",
       "      <th>fw</th>\n",
       "    </tr>\n",
       "  </thead>\n",
       "  <tbody>\n",
       "    <tr>\n",
       "      <th>0</th>\n",
       "      <td>[skip, content, company, careers, press, freel...</td>\n",
       "      <td>{'skip': True, 'content': True, 'company': Tru...</td>\n",
       "    </tr>\n",
       "    <tr>\n",
       "      <th>1</th>\n",
       "      <td>[im, calling, full, session, 48th, quadrennial...</td>\n",
       "      <td>{'im': True, 'calling': True, 'full': True, 's...</td>\n",
       "    </tr>\n",
       "    <tr>\n",
       "      <th>2</th>\n",
       "      <td>[every, four, years, come, together, reaffirm,...</td>\n",
       "      <td>{'every': True, 'four': True, 'years': True, '...</td>\n",
       "    </tr>\n",
       "    <tr>\n",
       "      <th>3</th>\n",
       "      <td>[fight, perfect, union, fighting, soul, countr...</td>\n",
       "      <td>{'fight': True, 'perfect': True, 'union': True...</td>\n",
       "    </tr>\n",
       "    <tr>\n",
       "      <th>4</th>\n",
       "      <td>[must, come, together, defeat, donald, trump, ...</td>\n",
       "      <td>{'must': True, 'come': True, 'together': True,...</td>\n",
       "    </tr>\n",
       "    <tr>\n",
       "      <th>5</th>\n",
       "      <td>[donald, trump, wrong, president, country, eno...</td>\n",
       "      <td>{'donald': True, 'trump': True, 'wrong': True,...</td>\n",
       "    </tr>\n",
       "    <tr>\n",
       "      <th>6</th>\n",
       "      <td>[dad, healthy, 65, year, old, preexisting, con...</td>\n",
       "      <td>{'dad': True, 'healthy': True, '65': True, 'ye...</td>\n",
       "    </tr>\n",
       "    <tr>\n",
       "      <th>7</th>\n",
       "      <td>[us, carry, fight, justice, actions, would, le...</td>\n",
       "      <td>{'us': True, 'carry': True, 'fight': True, 'ju...</td>\n",
       "    </tr>\n",
       "    <tr>\n",
       "      <th>8</th>\n",
       "      <td>[need, leadership, bring, us, back, together, ...</td>\n",
       "      <td>{'need': True, 'leadership': True, 'bring': Tr...</td>\n",
       "    </tr>\n",
       "    <tr>\n",
       "      <th>9</th>\n",
       "      <td>[next, president, right]</td>\n",
       "      <td>{'next': True, 'president': True, 'right': True}</td>\n",
       "    </tr>\n",
       "  </tbody>\n",
       "</table>\n",
       "</div>"
      ],
      "text/plain": [
       "                                                text  \\\n",
       "0  [skip, content, company, careers, press, freel...   \n",
       "1  [im, calling, full, session, 48th, quadrennial...   \n",
       "2  [every, four, years, come, together, reaffirm,...   \n",
       "3  [fight, perfect, union, fighting, soul, countr...   \n",
       "4  [must, come, together, defeat, donald, trump, ...   \n",
       "5  [donald, trump, wrong, president, country, eno...   \n",
       "6  [dad, healthy, 65, year, old, preexisting, con...   \n",
       "7  [us, carry, fight, justice, actions, would, le...   \n",
       "8  [need, leadership, bring, us, back, together, ...   \n",
       "9                           [next, president, right]   \n",
       "\n",
       "                                                  fw  \n",
       "0  {'skip': True, 'content': True, 'company': Tru...  \n",
       "1  {'im': True, 'calling': True, 'full': True, 's...  \n",
       "2  {'every': True, 'four': True, 'years': True, '...  \n",
       "3  {'fight': True, 'perfect': True, 'union': True...  \n",
       "4  {'must': True, 'come': True, 'together': True,...  \n",
       "5  {'donald': True, 'trump': True, 'wrong': True,...  \n",
       "6  {'dad': True, 'healthy': True, '65': True, 'ye...  \n",
       "7  {'us': True, 'carry': True, 'fight': True, 'ju...  \n",
       "8  {'need': True, 'leadership': True, 'bring': Tr...  \n",
       "9   {'next': True, 'president': True, 'right': True}  "
      ]
     },
     "execution_count": 67,
     "metadata": {},
     "output_type": "execute_result"
    }
   ],
   "source": [
    "# Display the DataFrame with feature words\n",
    "convention_text[['text', 'fw']].head(10)"
   ]
  },
  {
   "cell_type": "code",
   "execution_count": null,
   "metadata": {},
   "outputs": [],
   "source": [
    "assert(len(feature_words)>0)\n",
    "assert(conv_features(\"donald is the president\",feature_words)==\n",
    "       {'donald':True,'president':True})\n",
    "assert(conv_features(\"some people in america are citizens\",feature_words)==\n",
    "                     {'people':True,'america':True,\"citizens\":True})"
   ]
  },
  {
   "cell_type": "markdown",
   "metadata": {},
   "source": [
    "Now we'll build our feature set. Out of curiosity I did a train/test split to see how accurate the classifier was, but we don't strictly need to since this analysis is exploratory. "
   ]
  },
  {
   "cell_type": "code",
   "execution_count": 69,
   "metadata": {},
   "outputs": [],
   "source": [
    "# Create a nested list of word features from the desired list\n",
    "featuresets = [(conv_features(text,feature_words), party) for (text, party) in convention_data]"
   ]
  },
  {
   "cell_type": "code",
   "execution_count": 70,
   "metadata": {},
   "outputs": [
    {
     "data": {
      "text/plain": [
       "[({'skip': True,\n",
       "   'content': True,\n",
       "   'company': True,\n",
       "   'careers': True,\n",
       "   'press': True,\n",
       "   'freelancers': True,\n",
       "   'blog': True,\n",
       "   '×': True,\n",
       "   'services': True,\n",
       "   'transcription': True,\n",
       "   'captions': True,\n",
       "   'foreign': True,\n",
       "   'subtitles': True,\n",
       "   'translation': True,\n",
       "   'contact': True,\n",
       "   'login': True,\n",
       "   '«': True,\n",
       "   'return': True,\n",
       "   'transcript': True,\n",
       "   'library': True,\n",
       "   'home': True,\n",
       "   'categories': True,\n",
       "   'transcripts': True,\n",
       "   '2020': True,\n",
       "   'election': True,\n",
       "   'classic': True,\n",
       "   'speech': True,\n",
       "   'congressional': True,\n",
       "   'testimony': True,\n",
       "   'hearing': True,\n",
       "   'debate': True,\n",
       "   'donald': True,\n",
       "   'trump': True,\n",
       "   'entertainment': True,\n",
       "   'financial': True,\n",
       "   'interview': True,\n",
       "   'political': True,\n",
       "   'conference': True,\n",
       "   'sports': True,\n",
       "   'technology': True,\n",
       "   'aug': True,\n",
       "   '21': True,\n",
       "   'democratic': True,\n",
       "   'national': True,\n",
       "   'convention': True,\n",
       "   'dnc': True,\n",
       "   'night': True,\n",
       "   '4': True,\n",
       "   'rev': True,\n",
       "   'august': True,\n",
       "   '20': True,\n",
       "   'read': True,\n",
       "   'full': True,\n",
       "   'event': True,\n",
       "   'transcribe': True,\n",
       "   'try': True,\n",
       "   'free': True,\n",
       "   'save': True,\n",
       "   'time': True,\n",
       "   'transcribing': True,\n",
       "   'captioning': True,\n",
       "   'subtitling': True},\n",
       "  'Democratic'),\n",
       " ({'im': True,\n",
       "   'calling': True,\n",
       "   'full': True,\n",
       "   'session': True,\n",
       "   '48th': True,\n",
       "   'quadrennial': True,\n",
       "   'national': True,\n",
       "   'convention': True,\n",
       "   'democratic': True,\n",
       "   'party': True,\n",
       "   'order': True,\n",
       "   'welcome': True,\n",
       "   'final': True,\n",
       "   'historic': True,\n",
       "   'weve': True,\n",
       "   'called': True},\n",
       "  'Democratic'),\n",
       " ({'every': True,\n",
       "   'four': True,\n",
       "   'years': True,\n",
       "   'come': True,\n",
       "   'together': True,\n",
       "   'democracy': True,\n",
       "   'year': True,\n",
       "   'weve': True,\n",
       "   'save': True},\n",
       "  'Democratic'),\n",
       " ({'fight': True,\n",
       "   'perfect': True,\n",
       "   'union': True,\n",
       "   'fighting': True,\n",
       "   'soul': True,\n",
       "   'country': True,\n",
       "   'lives': True,\n",
       "   'right': True,\n",
       "   'real': True},\n",
       "  'Democratic'),\n",
       " ({'must': True,\n",
       "   'come': True,\n",
       "   'together': True,\n",
       "   'defeat': True,\n",
       "   'donald': True,\n",
       "   'trump': True,\n",
       "   'elect': True,\n",
       "   'joe': True,\n",
       "   'biden': True,\n",
       "   'kamala': True,\n",
       "   'harris': True,\n",
       "   'next': True,\n",
       "   'president': True,\n",
       "   'vice': True},\n",
       "  'Democratic')]"
      ]
     },
     "execution_count": 70,
     "metadata": {},
     "output_type": "execute_result"
    }
   ],
   "source": [
    "# Look at first 5 lists\n",
    "featuresets[0:5]"
   ]
  },
  {
   "cell_type": "code",
   "execution_count": 71,
   "metadata": {},
   "outputs": [],
   "source": [
    "# Create random sample of the feature list\n",
    "random.seed(20220507)\n",
    "random.shuffle(featuresets)\n",
    "\n",
    "test_size = 500"
   ]
  },
  {
   "cell_type": "code",
   "execution_count": 105,
   "metadata": {},
   "outputs": [
    {
     "name": "stdout",
     "output_type": "stream",
     "text": [
      "0.494\n"
     ]
    }
   ],
   "source": [
    "# Split sample into training and test sets\n",
    "test_set, train_set = featuresets[:test_size], featuresets[test_size:]\n",
    "\n",
    "# Train classifier model\n",
    "classifier = nltk.NaiveBayesClassifier.train(train_set)\n",
    "\n",
    "# Print overall accuracy of model on test set\n",
    "print(nltk.classify.accuracy(classifier, test_set))"
   ]
  },
  {
   "cell_type": "code",
   "execution_count": 73,
   "metadata": {},
   "outputs": [
    {
     "name": "stdout",
     "output_type": "stream",
     "text": [
      "Most Informative Features\n",
      "                   china = True           Republ : Democr =     25.8 : 1.0\n",
      "                   votes = True           Democr : Republ =     23.8 : 1.0\n",
      "             enforcement = True           Republ : Democr =     21.5 : 1.0\n",
      "                 destroy = True           Republ : Democr =     19.2 : 1.0\n",
      "                freedoms = True           Republ : Democr =     18.2 : 1.0\n",
      "                 climate = True           Democr : Republ =     17.8 : 1.0\n",
      "                supports = True           Republ : Democr =     17.1 : 1.0\n",
      "                   crime = True           Republ : Democr =     16.1 : 1.0\n",
      "                   media = True           Republ : Democr =     14.9 : 1.0\n",
      "                 beliefs = True           Republ : Democr =     13.0 : 1.0\n",
      "               countries = True           Republ : Democr =     13.0 : 1.0\n",
      "                 defense = True           Republ : Democr =     13.0 : 1.0\n",
      "                  defund = True           Republ : Democr =     13.0 : 1.0\n",
      "                    isis = True           Republ : Democr =     13.0 : 1.0\n",
      "                 liberal = True           Republ : Democr =     13.0 : 1.0\n",
      "                religion = True           Republ : Democr =     13.0 : 1.0\n",
      "                   trade = True           Republ : Democr =     12.7 : 1.0\n",
      "                    flag = True           Republ : Democr =     12.1 : 1.0\n",
      "               greatness = True           Republ : Democr =     12.1 : 1.0\n",
      "                 abraham = True           Republ : Democr =     11.9 : 1.0\n",
      "                    drug = True           Republ : Democr =     10.9 : 1.0\n",
      "              department = True           Republ : Democr =     10.9 : 1.0\n",
      "               destroyed = True           Republ : Democr =     10.9 : 1.0\n",
      "                   enemy = True           Republ : Democr =     10.9 : 1.0\n",
      "               amendment = True           Republ : Democr =     10.3 : 1.0\n"
     ]
    }
   ],
   "source": [
    "# Look at top features and ratios between the political classes\n",
    "classifier.show_most_informative_features(25)"
   ]
  },
  {
   "cell_type": "markdown",
   "metadata": {},
   "source": [
    "### My Observations\n",
    "\n",
    "The republican party has a much more diverse set of talking points compared to the democrats. The democrats only dominate in two words: votes and climate. \n"
   ]
  },
  {
   "cell_type": "markdown",
   "metadata": {},
   "source": [
    "## Part 2: Classifying Congressional Tweets\n",
    "\n",
    "In this part we apply the classifer we just built to a set of tweets by people running for congress\n",
    "in 2018. These tweets are stored in the database `congressional_data.db`. That DB is funky, so I'll\n",
    "give you the query I used to pull out the tweets. Note that this DB has some big tables and \n",
    "is unindexed, so the query takes a minute or two to run on my machine."
   ]
  },
  {
   "cell_type": "code",
   "execution_count": 129,
   "metadata": {},
   "outputs": [],
   "source": [
    "# Define the path to the Downloads folder and the database file\n",
    "# Location of data on machine\n",
    "data_location = r\"C:\\Users\\Halee\\Downloads\"\n",
    "database_path = os.path.join(data_location, 'congressional_data.db')\n",
    "\n",
    "# Make database connection\n",
    "cong_db = sqlite3.connect(database_path)\n",
    "cong_cur = cong_db.cursor()"
   ]
  },
  {
   "cell_type": "code",
   "execution_count": 130,
   "metadata": {},
   "outputs": [],
   "source": [
    "# Query to extract desired data\n",
    "results = cong_cur.execute(\n",
    "        '''\n",
    "           SELECT DISTINCT \n",
    "                  cd.candidate, \n",
    "                  cd.party,\n",
    "                  tw.tweet_text\n",
    "           FROM candidate_data cd \n",
    "           INNER JOIN tweets tw ON cd.twitter_handle = tw.handle \n",
    "               AND cd.candidate == tw.candidate \n",
    "               AND cd.district == tw.district\n",
    "           WHERE cd.party in ('Republican','Democratic') \n",
    "               AND tw.tweet_text NOT LIKE '%RT%'\n",
    "        ''')\n",
    "\n",
    "results = list(results) # Just to store it, since the query is time consuming"
   ]
  },
  {
   "cell_type": "code",
   "execution_count": 131,
   "metadata": {},
   "outputs": [
    {
     "data": {
      "text/plain": [
       "[('Mo Brooks',\n",
       "  'Republican',\n",
       "  b'\"Brooks Joins Alabama Delegation in Voting Against Flawed Funding Bill\" http://t.co/3CwjIWYsNq'),\n",
       " ('Mo Brooks',\n",
       "  'Republican',\n",
       "  b'\"Brooks: Senate Democrats Allowing President to Give Americans\\xe2\\x80\\x99 Jobs to Illegals\" #securetheborder https://t.co/mZtEaX8xS6'),\n",
       " ('Mo Brooks',\n",
       "  'Republican',\n",
       "  b'\"NASA on the Square\" event this Sat. 11AM \\xe2\\x80\\x93 4PM. Stop by &amp; hear about the incredible work done in #AL05! @DowntownHSV http://t.co/R9zY8WMEpA'),\n",
       " ('Mo Brooks',\n",
       "  'Republican',\n",
       "  b'\"The trouble with Socialism is that eventually you run out of other people\\'s money.\" - Margaret Thatcher https://t.co/X97g7wzQwJ'),\n",
       " ('Mo Brooks',\n",
       "  'Republican',\n",
       "  b'\"The trouble with socialism is eventually you run out of other people\\'s money\" \\xe2\\x80\\x93 Thatcher. She\\'ll be sorely missed. http://t.co/Z8gBnDQUh8')]"
      ]
     },
     "execution_count": 131,
     "metadata": {},
     "output_type": "execute_result"
    }
   ],
   "source": [
    "# Look at first 5 rows\n",
    "results[0:5]"
   ]
  },
  {
   "cell_type": "code",
   "execution_count": 132,
   "metadata": {},
   "outputs": [
    {
     "data": {
      "text/html": [
       "<div>\n",
       "<style scoped>\n",
       "    .dataframe tbody tr th:only-of-type {\n",
       "        vertical-align: middle;\n",
       "    }\n",
       "\n",
       "    .dataframe tbody tr th {\n",
       "        vertical-align: top;\n",
       "    }\n",
       "\n",
       "    .dataframe thead th {\n",
       "        text-align: right;\n",
       "    }\n",
       "</style>\n",
       "<table border=\"1\" class=\"dataframe\">\n",
       "  <thead>\n",
       "    <tr style=\"text-align: right;\">\n",
       "      <th></th>\n",
       "      <th>candidate</th>\n",
       "      <th>party</th>\n",
       "      <th>text</th>\n",
       "    </tr>\n",
       "  </thead>\n",
       "  <tbody>\n",
       "    <tr>\n",
       "      <th>0</th>\n",
       "      <td>Mo Brooks</td>\n",
       "      <td>Republican</td>\n",
       "      <td>[brooks, joins, alabama, delegation, voting, f...</td>\n",
       "    </tr>\n",
       "    <tr>\n",
       "      <th>1</th>\n",
       "      <td>Mo Brooks</td>\n",
       "      <td>Republican</td>\n",
       "      <td>[brooks, senate, democrats, allowing, presiden...</td>\n",
       "    </tr>\n",
       "    <tr>\n",
       "      <th>2</th>\n",
       "      <td>Mo Brooks</td>\n",
       "      <td>Republican</td>\n",
       "      <td>[nasa, square, event, sat, 11am, 4pm, stop, am...</td>\n",
       "    </tr>\n",
       "    <tr>\n",
       "      <th>3</th>\n",
       "      <td>Mo Brooks</td>\n",
       "      <td>Republican</td>\n",
       "      <td>[trouble, socialism, eventually, run, peoples,...</td>\n",
       "    </tr>\n",
       "    <tr>\n",
       "      <th>4</th>\n",
       "      <td>Mo Brooks</td>\n",
       "      <td>Republican</td>\n",
       "      <td>[trouble, socialism, eventually, run, peoples,...</td>\n",
       "    </tr>\n",
       "  </tbody>\n",
       "</table>\n",
       "</div>"
      ],
      "text/plain": [
       "   candidate       party                                               text\n",
       "0  Mo Brooks  Republican  [brooks, joins, alabama, delegation, voting, f...\n",
       "1  Mo Brooks  Republican  [brooks, senate, democrats, allowing, presiden...\n",
       "2  Mo Brooks  Republican  [nasa, square, event, sat, 11am, 4pm, stop, am...\n",
       "3  Mo Brooks  Republican  [trouble, socialism, eventually, run, peoples,...\n",
       "4  Mo Brooks  Republican  [trouble, socialism, eventually, run, peoples,..."
      ]
     },
     "execution_count": 132,
     "metadata": {},
     "output_type": "execute_result"
    }
   ],
   "source": [
    "# Clean tweet data by applying cleaning function\n",
    "tweet_data = []\n",
    "\n",
    "# Process each row\n",
    "for row in results:\n",
    "    candidate, party, text = row\n",
    "\n",
    "     # Decode bytes to string if necessary\n",
    "    if isinstance(text, bytes):\n",
    "        text = text.decode('utf-8')\n",
    "\n",
    "    # Apply cleaning steps to text data\n",
    "    text = clean_and_tokenize(text) \n",
    "\n",
    "    # Add clean data to the list\n",
    "    tweet_data.append((candidate, party, text))\n",
    "\n",
    "# Convert list to DataFrame\n",
    "tweet_text = pd.DataFrame(tweet_data, columns=['candidate', 'party', 'text'])\n",
    "\n",
    "# Close the connection\n",
    "cong_db.close()\n",
    "\n",
    "# Display the DataFrame\n",
    "tweet_text.head()"
   ]
  },
  {
   "cell_type": "markdown",
   "metadata": {},
   "source": [
    "There are a lot of tweets here. Let's take a random sample and see how our classifer does. I'm guessing it won't be too great given the performance on the convention speeches..."
   ]
  },
  {
   "cell_type": "code",
   "execution_count": 101,
   "metadata": {},
   "outputs": [],
   "source": [
    "# Take a random sample of 10 rows from the DataFrame\n",
    "tweet_data_sample = tweet_text[['text', 'party']].sample(n=10, random_state=20201014)"
   ]
  },
  {
   "cell_type": "code",
   "execution_count": 102,
   "metadata": {},
   "outputs": [
    {
     "data": {
      "text/html": [
       "<div>\n",
       "<style scoped>\n",
       "    .dataframe tbody tr th:only-of-type {\n",
       "        vertical-align: middle;\n",
       "    }\n",
       "\n",
       "    .dataframe tbody tr th {\n",
       "        vertical-align: top;\n",
       "    }\n",
       "\n",
       "    .dataframe thead th {\n",
       "        text-align: right;\n",
       "    }\n",
       "</style>\n",
       "<table border=\"1\" class=\"dataframe\">\n",
       "  <thead>\n",
       "    <tr style=\"text-align: right;\">\n",
       "      <th></th>\n",
       "      <th>text</th>\n",
       "      <th>party</th>\n",
       "    </tr>\n",
       "  </thead>\n",
       "  <tbody>\n",
       "    <tr>\n",
       "      <th>13983</th>\n",
       "      <td>[lawmakers, launch, probes, comey, uranium, on...</td>\n",
       "      <td>Republican</td>\n",
       "    </tr>\n",
       "    <tr>\n",
       "      <th>108969</th>\n",
       "      <td>[nephewsrock, httptcovluf6kvr0p]</td>\n",
       "      <td>Democratic</td>\n",
       "    </tr>\n",
       "    <tr>\n",
       "      <th>340319</th>\n",
       "      <td>[memorial, day, remember, served, country, bra...</td>\n",
       "      <td>Democratic</td>\n",
       "    </tr>\n",
       "    <tr>\n",
       "      <th>38266</th>\n",
       "      <td>[join, us, tonight, higginsville, mo, public, ...</td>\n",
       "      <td>Democratic</td>\n",
       "    </tr>\n",
       "    <tr>\n",
       "      <th>600904</th>\n",
       "      <td>[deeply, appreciate, katiecouric, blazed, trai...</td>\n",
       "      <td>Republican</td>\n",
       "    </tr>\n",
       "    <tr>\n",
       "      <th>222376</th>\n",
       "      <td>[spotted, jewelers, row, pa03, philadelphians,...</td>\n",
       "      <td>Republican</td>\n",
       "    </tr>\n",
       "    <tr>\n",
       "      <th>340457</th>\n",
       "      <td>[thank, whiphoyer, buddy, since, days, togethe...</td>\n",
       "      <td>Democratic</td>\n",
       "    </tr>\n",
       "    <tr>\n",
       "      <th>90963</th>\n",
       "      <td>[adybarkan, inspiration, fight, everything, be...</td>\n",
       "      <td>Democratic</td>\n",
       "    </tr>\n",
       "    <tr>\n",
       "      <th>383057</th>\n",
       "      <td>[humbled, leesburg, salvation, army, asked, sp...</td>\n",
       "      <td>Republican</td>\n",
       "    </tr>\n",
       "    <tr>\n",
       "      <th>524944</th>\n",
       "      <td>[sure, american, classic, neatoday, repfranklu...</td>\n",
       "      <td>Republican</td>\n",
       "    </tr>\n",
       "  </tbody>\n",
       "</table>\n",
       "</div>"
      ],
      "text/plain": [
       "                                                     text       party\n",
       "13983   [lawmakers, launch, probes, comey, uranium, on...  Republican\n",
       "108969                   [nephewsrock, httptcovluf6kvr0p]  Democratic\n",
       "340319  [memorial, day, remember, served, country, bra...  Democratic\n",
       "38266   [join, us, tonight, higginsville, mo, public, ...  Democratic\n",
       "600904  [deeply, appreciate, katiecouric, blazed, trai...  Republican\n",
       "222376  [spotted, jewelers, row, pa03, philadelphians,...  Republican\n",
       "340457  [thank, whiphoyer, buddy, since, days, togethe...  Democratic\n",
       "90963   [adybarkan, inspiration, fight, everything, be...  Democratic\n",
       "383057  [humbled, leesburg, salvation, army, asked, sp...  Republican\n",
       "524944  [sure, american, classic, neatoday, repfranklu...  Republican"
      ]
     },
     "execution_count": 102,
     "metadata": {},
     "output_type": "execute_result"
    }
   ],
   "source": [
    "tweet_data_sample"
   ]
  },
  {
   "cell_type": "code",
   "execution_count": 114,
   "metadata": {},
   "outputs": [
    {
     "data": {
      "text/html": [
       "<div>\n",
       "<style scoped>\n",
       "    .dataframe tbody tr th:only-of-type {\n",
       "        vertical-align: middle;\n",
       "    }\n",
       "\n",
       "    .dataframe tbody tr th {\n",
       "        vertical-align: top;\n",
       "    }\n",
       "\n",
       "    .dataframe thead th {\n",
       "        text-align: right;\n",
       "    }\n",
       "</style>\n",
       "<table border=\"1\" class=\"dataframe\">\n",
       "  <thead>\n",
       "    <tr style=\"text-align: right;\">\n",
       "      <th></th>\n",
       "      <th>text</th>\n",
       "      <th>party</th>\n",
       "      <th>estimated_party</th>\n",
       "    </tr>\n",
       "  </thead>\n",
       "  <tbody>\n",
       "    <tr>\n",
       "      <th>13983</th>\n",
       "      <td>[lawmakers, launch, probes, comey, uranium, on...</td>\n",
       "      <td>Republican</td>\n",
       "      <td>Democratic</td>\n",
       "    </tr>\n",
       "    <tr>\n",
       "      <th>108969</th>\n",
       "      <td>[nephewsrock, httptcovluf6kvr0p]</td>\n",
       "      <td>Democratic</td>\n",
       "      <td>Democratic</td>\n",
       "    </tr>\n",
       "    <tr>\n",
       "      <th>340319</th>\n",
       "      <td>[memorial, day, remember, served, country, bra...</td>\n",
       "      <td>Democratic</td>\n",
       "      <td>Democratic</td>\n",
       "    </tr>\n",
       "    <tr>\n",
       "      <th>38266</th>\n",
       "      <td>[join, us, tonight, higginsville, mo, public, ...</td>\n",
       "      <td>Democratic</td>\n",
       "      <td>Democratic</td>\n",
       "    </tr>\n",
       "    <tr>\n",
       "      <th>600904</th>\n",
       "      <td>[deeply, appreciate, katiecouric, blazed, trai...</td>\n",
       "      <td>Republican</td>\n",
       "      <td>Democratic</td>\n",
       "    </tr>\n",
       "    <tr>\n",
       "      <th>222376</th>\n",
       "      <td>[spotted, jewelers, row, pa03, philadelphians,...</td>\n",
       "      <td>Republican</td>\n",
       "      <td>Democratic</td>\n",
       "    </tr>\n",
       "    <tr>\n",
       "      <th>340457</th>\n",
       "      <td>[thank, whiphoyer, buddy, since, days, togethe...</td>\n",
       "      <td>Democratic</td>\n",
       "      <td>Democratic</td>\n",
       "    </tr>\n",
       "    <tr>\n",
       "      <th>90963</th>\n",
       "      <td>[adybarkan, inspiration, fight, everything, be...</td>\n",
       "      <td>Democratic</td>\n",
       "      <td>Democratic</td>\n",
       "    </tr>\n",
       "    <tr>\n",
       "      <th>383057</th>\n",
       "      <td>[humbled, leesburg, salvation, army, asked, sp...</td>\n",
       "      <td>Republican</td>\n",
       "      <td>Democratic</td>\n",
       "    </tr>\n",
       "    <tr>\n",
       "      <th>524944</th>\n",
       "      <td>[sure, american, classic, neatoday, repfranklu...</td>\n",
       "      <td>Republican</td>\n",
       "      <td>Democratic</td>\n",
       "    </tr>\n",
       "  </tbody>\n",
       "</table>\n",
       "</div>"
      ],
      "text/plain": [
       "                                                     text       party  \\\n",
       "13983   [lawmakers, launch, probes, comey, uranium, on...  Republican   \n",
       "108969                   [nephewsrock, httptcovluf6kvr0p]  Democratic   \n",
       "340319  [memorial, day, remember, served, country, bra...  Democratic   \n",
       "38266   [join, us, tonight, higginsville, mo, public, ...  Democratic   \n",
       "600904  [deeply, appreciate, katiecouric, blazed, trai...  Republican   \n",
       "222376  [spotted, jewelers, row, pa03, philadelphians,...  Republican   \n",
       "340457  [thank, whiphoyer, buddy, since, days, togethe...  Democratic   \n",
       "90963   [adybarkan, inspiration, fight, everything, be...  Democratic   \n",
       "383057  [humbled, leesburg, salvation, army, asked, sp...  Republican   \n",
       "524944  [sure, american, classic, neatoday, repfranklu...  Republican   \n",
       "\n",
       "       estimated_party  \n",
       "13983       Democratic  \n",
       "108969      Democratic  \n",
       "340319      Democratic  \n",
       "38266       Democratic  \n",
       "600904      Democratic  \n",
       "222376      Democratic  \n",
       "340457      Democratic  \n",
       "90963       Democratic  \n",
       "383057      Democratic  \n",
       "524944      Democratic  "
      ]
     },
     "execution_count": 114,
     "metadata": {},
     "output_type": "execute_result"
    }
   ],
   "source": [
    "# Get predictions for party\n",
    "tweet_data_sample['estimated_party'] = classifier.classify(tweet_data_sample['text'])\n",
    "tweet_data_sample.head(10)"
   ]
  },
  {
   "cell_type": "markdown",
   "metadata": {},
   "source": [
    "# Take a larger test sample to run through the model"
   ]
  },
  {
   "cell_type": "code",
   "execution_count": 140,
   "metadata": {
    "scrolled": true
   },
   "outputs": [],
   "source": [
    "# Shuffle the data to ensure random sampling\n",
    "# Take random sample of 10,000 tweets\n",
    "tweet_text = tweet_text.sample(n = 10000, random_state=8).reset_index(drop=True)\n",
    "\n",
    "# Iterate over the shuffled DataFrame and extract probabilities and labels\n",
    "probs = []\n",
    "labels = []\n",
    "for idx, row in tweet_text.iterrows():\n",
    "    tweet = row['text']\n",
    "    party = row['party']\n",
    "    \n",
    "    # Create features word sets so data is in proper format for classifier\n",
    "    features = conv_features(tweet, feature_words)\n",
    "    \n",
    "    # Classify and get probabilities\n",
    "    prob_dist = classifier.prob_classify(features)\n",
    "    estimated_party = prob_dist.max()\n",
    "    prob = prob_dist.prob(estimated_party)\n",
    "    \n",
    "    # Store the results\n",
    "    probs.append(prob)\n",
    "    labels.append(estimated_party)\n",
    "    \n",
    "# Add probabilities and labels to the DataFrame\n",
    "tweet_text['estimated_party'] = labels\n",
    "tweet_text['probability'] = probs"
   ]
  },
  {
   "cell_type": "markdown",
   "metadata": {},
   "source": [
    "### Insights: Republican probabilites are higher and more consistent than the Democratic probabilities which is interesting considering the sample has more data on democratic than republican."
   ]
  },
  {
   "cell_type": "code",
   "execution_count": 160,
   "metadata": {},
   "outputs": [
    {
     "data": {
      "text/plain": [
       "party\n",
       "Democratic    5657\n",
       "Republican    4343\n",
       "Name: count, dtype: int64"
      ]
     },
     "execution_count": 160,
     "metadata": {},
     "output_type": "execute_result"
    }
   ],
   "source": [
    "tweet_text['party'].value_counts()"
   ]
  },
  {
   "cell_type": "code",
   "execution_count": 137,
   "metadata": {},
   "outputs": [
    {
     "data": {
      "image/png": "[encoded data removed]",
      "text/plain": [
       "<Figure size 640x480 with 1 Axes>"
      ]
     },
     "metadata": {},
     "output_type": "display_data"
    }
   ],
   "source": [
    "# Distribution of probabilites for Republican\n",
    "republican_probs = tweet_text[tweet_text['estimated_party'] == 'Republican']['probability']\n",
    "\n",
    "# Plot the histogram\n",
    "plt.hist(republican_probs, bins=10, edgecolor='black')\n",
    "plt.title('Distribution of Probabilities for Republican Predictions')\n",
    "plt.xlabel('Probability')\n",
    "plt.ylabel('Frequency')\n",
    "plt.show()"
   ]
  },
  {
   "cell_type": "code",
   "execution_count": 139,
   "metadata": {},
   "outputs": [
    {
     "data": {
      "image/png": "[encoded data removed]",
      "text/plain": [
       "<Figure size 640x480 with 1 Axes>"
      ]
     },
     "metadata": {},
     "output_type": "display_data"
    }
   ],
   "source": [
    "# Distributio of probabilities for Democrat\n",
    "democrat_probs = tweet_text[tweet_text['estimated_party'] == 'Democratic']['probability']\n",
    "\n",
    "# Plot the histogram\n",
    "plt.hist(democrat_probs, bins=10, edgecolor='black')\n",
    "plt.title('Distribution of Probabilities for Democrat Predictions')\n",
    "plt.xlabel('Probability')\n",
    "plt.ylabel('Frequency')\n",
    "plt.show()"
   ]
  },
  {
   "cell_type": "markdown",
   "metadata": {},
   "source": [
    "## Confusion matrix performance"
   ]
  },
  {
   "cell_type": "code",
   "execution_count": 154,
   "metadata": {},
   "outputs": [
    {
     "data": {
      "image/png": "[encoded data removed]",
      "text/plain": [
       "<Figure size 640x480 with 2 Axes>"
      ]
     },
     "metadata": {},
     "output_type": "display_data"
    }
   ],
   "source": [
    "parties = ['Democratic','Republican']\n",
    "# Confusion matrix for performance\n",
    "conf_mat = confusion_matrix(y_true=tweet_text['party'], y_pred=tweet_text['estimated_party'], labels=parties)\n",
    "conf_mat_display = ConfusionMatrixDisplay(confusion_matrix=conf_mat, display_labels=parties)\n",
    "conf_mat_display.plot()\n",
    "plt.show()"
   ]
  },
  {
   "cell_type": "code",
   "execution_count": 155,
   "metadata": {},
   "outputs": [
    {
     "data": {
      "text/plain": [
       "(0.43738997770214766, 0.8581625604420907, 0.459)"
      ]
     },
     "execution_count": 155,
     "metadata": {},
     "output_type": "execute_result"
    }
   ],
   "source": [
    "precision = precision_score(y_true=tweet_text['party'], y_pred=tweet_text['estimated_party'], labels=parties, average='binary', pos_label='Republican')\n",
    "recall = recall_score(y_true=tweet_text['party'], y_pred=tweet_text['estimated_party'], labels=parties, average='binary', pos_label='Republican')\n",
    "accuracy = accuracy_score(y_true=tweet_text['party'], y_pred=tweet_text['estimated_party'])\n",
    "precision, recall, accuracy"
   ]
  },
  {
   "cell_type": "code",
   "execution_count": 162,
   "metadata": {},
   "outputs": [
    {
     "data": {
      "text/plain": [
       "(0.8581625604420907, 0.1525543574332685)"
      ]
     },
     "execution_count": 162,
     "metadata": {},
     "output_type": "execute_result"
    }
   ],
   "source": [
    "sensitivity = sensitivity_score(y_true=tweet_text['party'], y_pred=tweet_text['estimated_party'], labels=parties, average='binary', pos_label='Republican')\n",
    "specificity = specificity_score(y_true=tweet_text['party'], y_pred=tweet_text['estimated_party'], labels=parties, average='binary', pos_label='Republican')\n",
    "sensitivity, specificity"
   ]
  },
  {
   "cell_type": "markdown",
   "metadata": {},
   "source": [
    "# Reflections\n",
    "The NB model performs quite well on the republican data because the language used at republican conferences is much more diverse and identifiable. The langauge used by democrats is very homogenous, so the algorithm had a hard time picking up on patterns to predict the democratic class."
   ]
  },
  {
   "cell_type": "code",
   "execution_count": null,
   "metadata": {},
   "outputs": [],
   "source": []
  }
 ],
 "metadata": {
  "kernelspec": {
   "display_name": "Python 3 (ipykernel)",
   "language": "python",
   "name": "python3"
  },
  "language_info": {
   "codemirror_mode": {
    "name": "ipython",
    "version": 3
   },
   "file_extension": ".py",
   "mimetype": "text/x-python",
   "name": "python",
   "nbconvert_exporter": "python",
   "pygments_lexer": "ipython3",
   "version": "3.9.18"
  }
 },
 "nbformat": 4,
 "nbformat_minor": 4
}
